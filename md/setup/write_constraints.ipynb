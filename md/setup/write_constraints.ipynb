{
 "cells": [
  {
   "cell_type": "markdown",
   "metadata": {},
   "source": [
    "# Generate constraint files for heating and equilibration\n",
    "This notebook runs through code for generating constaint PDBs for heating/equilibration\n",
    "### Set up environment"
   ]
  },
  {
   "cell_type": "code",
   "execution_count": 4,
   "metadata": {},
   "outputs": [],
   "source": [
    "import mdtraj as md\n",
    "import numpy as np"
   ]
  },
  {
   "cell_type": "markdown",
   "metadata": {},
   "source": [
    "### Specify PDB file and chains of interest\n",
    "`mdtraj` doesn't allow for character-based selection of chains, only integer-based so verify selections.\n",
    "\n",
    "Pay attention to specifying chains of non-proteins in the for cons_bb.pdb as well since non-proteins don't have backbone atoms."
   ]
  },
  {
   "cell_type": "code",
   "execution_count": 5,
   "metadata": {},
   "outputs": [],
   "source": [
    "t = md.load('c3d_cr2_full_solv_ion_mini.pdb')\n",
    "chains_of_interest = [0,1,2] # Pay attention when specifying chains of non-proteins in the cons_bb section\n",
    "# Or if you just want to select all protein atoms\n",
    "# chains_of_interest = 'protein'"
   ]
  },
  {
   "cell_type": "markdown",
   "metadata": {},
   "source": [
    "## Initiate b-factor arrays and set atom subset selections to 10"
   ]
  },
  {
   "cell_type": "code",
   "execution_count": 11,
   "metadata": {},
   "outputs": [],
   "source": [
    "cons_bb_array = np.zeros(t.n_atoms)\n",
    "cons_protein_array = np.zeros(t.n_atoms)"
   ]
  },
  {
   "cell_type": "code",
   "execution_count": 12,
   "metadata": {},
   "outputs": [],
   "source": [
    "if chains_of_interest == 'protein':\n",
    "    cons_protein_array[t.top.select('protein')] = 10\n",
    "    cons_bb_array[t.top.select('backbone and protein')] = 10\n",
    "else:\n",
    "    cons_protein_array[t.top.select('chainid '+' or chainid '.join(str(x) for x in chains_of_interest))] = 10\n",
    "    cons_bb_array[t.top.select('backbone and (chainid '+' or chainid '.join(str(x) for x in chains_of_interest)+')')] = 10"
   ]
  },
  {
   "cell_type": "markdown",
   "metadata": {},
   "source": [
    "## Output PDBs with b-factor columns.\n",
    "Note: occupancy is set to 1.0 unlike the bio3d output which is set to 0. Shouldn't matter for our applications anyway. mdtraj also outputs box dims in the PDB."
   ]
  },
  {
   "cell_type": "code",
   "execution_count": 67,
   "metadata": {},
   "outputs": [],
   "source": [
    "t.save_pdb('cons_prot.pdb', bfactors =cons_protein_array)\n",
    "t.save_pdb('cons_bb.pdb', bfactors =cons_bb_array)"
   ]
  }
 ],
 "metadata": {
  "kernelspec": {
   "display_name": "Python 3",
   "language": "python",
   "name": "python3"
  },
  "language_info": {
   "codemirror_mode": {
    "name": "ipython",
    "version": 3
   },
   "file_extension": ".py",
   "mimetype": "text/x-python",
   "name": "python",
   "nbconvert_exporter": "python",
   "pygments_lexer": "ipython3",
   "version": "3.5.4"
  }
 },
 "nbformat": 4,
 "nbformat_minor": 2
}

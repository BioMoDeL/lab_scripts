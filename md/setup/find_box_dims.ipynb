{
 "cells": [
  {
   "cell_type": "markdown",
   "metadata": {},
   "source": [
    "# Find box dimensions\n",
    "This notebook shows how to calculate appropriate box dimensions for a water box.\n",
    "### Set up environment"
   ]
  },
  {
   "cell_type": "code",
   "execution_count": 7,
   "metadata": {},
   "outputs": [],
   "source": [
    "import mdtraj as md\n",
    "import numpy as np"
   ]
  },
  {
   "cell_type": "markdown",
   "metadata": {},
   "source": [
    "### Specify PDB file and size of box\n",
    "Here we use 12 angstroms as the padding distance so the water box will extend 12 angstroms from the protein in each direction"
   ]
  },
  {
   "cell_type": "code",
   "execution_count": null,
   "metadata": {},
   "outputs": [],
   "source": [
    "t = md.load('c3d_cr2_full_mini.pdb')\n",
    "padding_dist = 12 #angstroms"
   ]
  },
  {
   "cell_type": "markdown",
   "metadata": {},
   "source": [
    "### Initial protein dimensions calculations"
   ]
  },
  {
   "cell_type": "code",
   "execution_count": 9,
   "metadata": {},
   "outputs": [
    {
     "name": "stdout",
     "output_type": "stream",
     "text": [
      "[ 13.74199963   4.95300007 -31.63399887]\n",
      "[-44.36399841 -53.82099915 -87.37000275]\n",
      "[ 83.  83.  80.]\n",
      "[-15.31099892 -24.43400002 -59.5019989 ]\n"
     ]
    }
   ],
   "source": [
    "max_coords = np.amax(t.xyz[0], axis=0)*10 #Multiplied by 10 to convert into angstroms\n",
    "min_coords = np.amin(t.xyz[0], axis=0)*10 #Multiplied by 10 to convert into angstroms\n",
    "box_dims = np.ceil(max_coords - min_coords)+(padding_dist*2)\n",
    "cellOrigin = min_coords+((max_coords-min_coords)/2)\n",
    "\n",
    "print(max_coords)\n",
    "print(min_coords)\n",
    "print(box_dims)\n",
    "print(cellOrigin)"
   ]
  },
  {
   "cell_type": "markdown",
   "metadata": {},
   "source": [
    "### Adjusted box dims and min/max calculations"
   ]
  },
  {
   "cell_type": "code",
   "execution_count": 10,
   "metadata": {},
   "outputs": [
    {
     "name": "stdout",
     "output_type": "stream",
     "text": [
      "Min: -56.811 -65.934 -99.502\n",
      "Max: 26.189 17.066 -19.502\n",
      "CellOrigin: -15.311 -24.434 -59.502\n",
      "Box Dims: 83.0 83.0 80.0\n"
     ]
    }
   ],
   "source": [
    "max_coords_new = cellOrigin + (box_dims/2)\n",
    "min_coords_new = cellOrigin - (box_dims/2)\n",
    "box_dims_new = max_coords_new-min_coords_new\n",
    "cellOrigin_new = min_coords_new+(box_dims_new/2)\n",
    "print('Min: '+' '.join(map(str, min_coords_new)))\n",
    "print('Max: '+' '.join(map(str, max_coords_new)))\n",
    "print('CellOrigin: '+' '.join(map(str, cellOrigin_new)))\n",
    "print('Box Dims: '+' '.join(map(str, box_dims_new)))"
   ]
  },
  {
   "cell_type": "markdown",
   "metadata": {},
   "source": [
    "### NAMD-ready formatting"
   ]
  },
  {
   "cell_type": "code",
   "execution_count": 11,
   "metadata": {},
   "outputs": [
    {
     "name": "stdout",
     "output_type": "stream",
     "text": [
      "cellBasisVector1 83.0 0.0 0.0\n",
      "cellBasisVector2 0.0 83.0 0.0\n",
      "cellBasisVector3 0.0 0.0 80.0\n",
      "cellOrigin -15.311 -24.434 -59.502\n"
     ]
    }
   ],
   "source": [
    "for i in np.arange(3):\n",
    "        print('cellBasisVector{} {}'.format(i+1,' '.join(map(str, np.diag(box_dims_new)[i]))))\n",
    "print('cellOrigin '+' '.join(map(str, cellOrigin_new)))"
   ]
  }
 ],
 "metadata": {
  "kernelspec": {
   "display_name": "Python 3",
   "language": "python",
   "name": "python3"
  },
  "language_info": {
   "codemirror_mode": {
    "name": "ipython",
    "version": 3
   },
   "file_extension": ".py",
   "mimetype": "text/x-python",
   "name": "python",
   "nbconvert_exporter": "python",
   "pygments_lexer": "ipython3",
   "version": "3.5.4"
  }
 },
 "nbformat": 4,
 "nbformat_minor": 2
}
